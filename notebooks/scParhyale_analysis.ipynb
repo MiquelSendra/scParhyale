{
 "cells": [
  {
   "cell_type": "markdown",
   "id": "56863028",
   "metadata": {},
   "source": [
    "# scRNA-seq Analysis of *Parhyale hawaiensis* with Scanpy\n",
    "\n",
    "Author: Miquel Sendra  \n",
    "This notebook follows best practices for reproducible single-cell RNA-seq analysis using `scanpy`, starting from STARsolo outputs."
   ]
  },
  {
   "cell_type": "code",
   "execution_count": null,
   "id": "5c72a486",
   "metadata": {},
   "outputs": [],
   "source": [
    "# Imports and settings\n",
    "import scanpy as sc\n",
    "import pandas as pd\n",
    "import numpy as np\n",
    "import matplotlib.pyplot as plt\n",
    "import seaborn as sns\n",
    "from pathlib import Path\n",
    "import os\n",
    "\n",
    "# Set up paths\n",
    "DATA_DIR = Path(\"../scParhyale_data/raw\")\n",
    "METADATA_FILE = Path(\"../scParhyale_data/HHMI_QG_Sample_Manifest_Form_v1.2_Pavlopoulos_QC.xlsx\")\n",
    "LIBRARIES = [\"lib01\", \"lib02\", \"lib03\", \"lib04\", \"lib05\", \"lib06\"]"
   ]
  },
  {
   "cell_type": "markdown",
   "id": "e162f9f0",
   "metadata": {},
   "source": [
    "## Load Metadata"
   ]
  },
  {
   "cell_type": "code",
   "execution_count": null,
   "id": "0bcbb20e",
   "metadata": {},
   "outputs": [],
   "source": [
    "# Load metadata\n",
    "metadata_df = pd.read_excel(METADATA_FILE, usecols=\"A:B\", skiprows=1, nrows=6)\n",
    "metadata_df.columns = [\"Count\", \"Sample Name\"]\n",
    "metadata_df[\"Library ID\"] = [f\"lib0{i}\" for i in metadata_df['Count']]\n",
    "metadata_df[\"Phenotype\"] = metadata_df[\"Sample Name\"].apply(lambda x: \"WT\" if \"Wild-type\" in x else \"Ablated\")\n",
    "metadata_df[\"Stage\"] = metadata_df[\"Sample Name\"].apply(lambda x: x.split()[-1])\n",
    "metadata_df.set_index(\"Library ID\", inplace=True)\n",
    "metadata_df"
   ]
  },
  {
   "cell_type": "markdown",
   "id": "5725e402",
   "metadata": {},
   "source": [
    "## Load STARsolo matrices and build combined AnnData object"
   ]
  },
  {
   "cell_type": "code",
   "execution_count": null,
   "id": "c68b1b2a",
   "metadata": {},
   "outputs": [],
   "source": [
    "# Load libraries and store AnnData objects\n",
    "adatas = []\n",
    "for lib in LIBRARIES:\n",
    "    ad = sc.read_10x_mtx(DATA_DIR / lib, var_names='gene_symbols', cache=True)\n",
    "    ad.obs[\"library_id\"] = lib\n",
    "    ad.obs = ad.obs.merge(metadata_df, left_on=\"library_id\", right_index=True)\n",
    "    ad.var_names_make_unique()\n",
    "    adatas.append(ad)\n",
    "\n",
    "# Concatenate all\n",
    "adata = adatas[0].concatenate(*adatas[1:], batch_key=\"batch\", batch_categories=LIBRARIES)\n",
    "adata"
   ]
  },
  {
   "cell_type": "markdown",
   "id": "8232cbda",
   "metadata": {},
   "source": [
    "## Preprocessing"
   ]
  },
  {
   "cell_type": "code",
   "execution_count": null,
   "id": "82bcdde7",
   "metadata": {},
   "outputs": [],
   "source": [
    "# Basic filtering\n",
    "sc.pp.filter_cells(adata, min_genes=200)\n",
    "sc.pp.filter_genes(adata, min_cells=3)\n",
    "# Calculate QC metrics\n",
    "adata.var[\"mt\"] = adata.var_names.str.startswith(\"mt-\")\n",
    "sc.pp.calculate_qc_metrics(adata, qc_vars=[\"mt\"], percent_top=None, log1p=False, inplace=True)\n",
    "# Plot QC\n",
    "sc.pl.violin(adata, ['n_genes_by_counts', 'total_counts', 'pct_counts_mt'], \n",
    "             jitter=0.4, multi_panel=True)"
   ]
  },
  {
   "cell_type": "markdown",
   "id": "0792ff23",
   "metadata": {},
   "source": [
    "## Filtering based on QC"
   ]
  },
  {
   "cell_type": "code",
   "execution_count": null,
   "id": "1a74e6ee",
   "metadata": {},
   "outputs": [],
   "source": [
    "# Apply thresholds based on inspection\n",
    "adata = adata[adata.obs.n_genes_by_counts < 6000, :]\n",
    "adata = adata[adata.obs.pct_counts_mt < 10, :]\n",
    "adata"
   ]
  },
  {
   "cell_type": "markdown",
   "id": "0f5e5c03",
   "metadata": {},
   "source": [
    "## Normalization and Log Transformation"
   ]
  },
  {
   "cell_type": "code",
   "execution_count": null,
   "id": "3b5cfcb6",
   "metadata": {},
   "outputs": [],
   "source": [
    "sc.pp.normalize_total(adata, target_sum=1e4)\n",
    "sc.pp.log1p(adata)\n",
    "adata.raw = adata"
   ]
  },
  {
   "cell_type": "markdown",
   "id": "de4d38c8",
   "metadata": {},
   "source": [
    "## Highly Variable Genes"
   ]
  },
  {
   "cell_type": "code",
   "execution_count": null,
   "id": "1baa9b9e",
   "metadata": {},
   "outputs": [],
   "source": [
    "sc.pp.highly_variable_genes(adata, min_mean=0.0125, max_mean=3, min_disp=0.5)\n",
    "sc.pl.highly_variable_genes(adata)\n",
    "adata = adata[:, adata.var.highly_variable]"
   ]
  },
  {
   "cell_type": "markdown",
   "id": "f281c504",
   "metadata": {},
   "source": [
    "## PCA, Neighbors, UMAP"
   ]
  },
  {
   "cell_type": "code",
   "execution_count": null,
   "id": "0fa8f8f7",
   "metadata": {},
   "outputs": [],
   "source": [
    "sc.pp.scale(adata, max_value=10)\n",
    "sc.tl.pca(adata, svd_solver='arpack')\n",
    "sc.pl.pca_variance_ratio(adata, log=True)\n",
    "sc.pp.neighbors(adata, n_neighbors=10, n_pcs=40)\n",
    "sc.tl.umap(adata)\n",
    "sc.pl.umap(adata, color=['library_id', 'Phenotype', 'Stage'])"
   ]
  },
  {
   "cell_type": "markdown",
   "id": "c34763f8",
   "metadata": {},
   "source": [
    "## Clustering"
   ]
  },
  {
   "cell_type": "code",
   "execution_count": null,
   "id": "586d1dcf",
   "metadata": {},
   "outputs": [],
   "source": [
    "sc.tl.leiden(adata, resolution=0.5)\n",
    "sc.pl.umap(adata, color=['leiden'])"
   ]
  },
  {
   "cell_type": "markdown",
   "id": "6c4f3414",
   "metadata": {},
   "source": [
    "## Marker Gene Identification"
   ]
  },
  {
   "cell_type": "code",
   "execution_count": null,
   "id": "97949c11",
   "metadata": {},
   "outputs": [],
   "source": [
    "sc.tl.rank_genes_groups(adata, 'leiden', method='t-test')\n",
    "sc.pl.rank_genes_groups(adata, n_genes=20, sharey=False)"
   ]
  },
  {
   "cell_type": "markdown",
   "id": "2559f0ed",
   "metadata": {},
   "source": [
    "## Save Processed Data"
   ]
  },
  {
   "cell_type": "code",
   "execution_count": null,
   "id": "da7704c4",
   "metadata": {},
   "outputs": [],
   "source": [
    "adata.write(\"../scParhyale_data/processed/scParhyale_adata.h5ad\")"
   ]
  }
 ],
 "metadata": {},
 "nbformat": 4,
 "nbformat_minor": 5
}
